{
 "cells": [
  {
   "cell_type": "code",
   "execution_count": 281,
   "metadata": {},
   "outputs": [],
   "source": [
    "import pandas as pd\n",
    "import numpy as np"
   ]
  },
  {
   "cell_type": "code",
   "execution_count": 282,
   "metadata": {},
   "outputs": [],
   "source": [
    "class Node:\n",
    "    def __init__(self, label=None, attribute=None, children=None):\n",
    "        self.label = label\n",
    "        self.attribute = attribute\n",
    "        self.children = children"
   ]
  },
  {
   "cell_type": "code",
   "execution_count": 283,
   "metadata": {},
   "outputs": [],
   "source": [
    "class DecisionTree:\n",
    "    def __init__(self, attributes, max_depth=3):\n",
    "        self.max_depth = max_depth\n",
    "        self.attributes = attributes\n",
    "        self.tree = None\n",
    "        self.labels = []\n",
    "\n",
    "    def fit(self, X, y):\n",
    "        self.tree = self._build_tree(X, y)\n",
    "\n",
    "    def predict(self, X):\n",
    "        return [self._predict(inputs) for inputs in X]\n",
    "\n",
    "    def print_tree(self):\n",
    "        self._print_tree(self.tree)\n",
    "\n",
    "    def _build_tree(self, X, y, depth=0, used_attributes=[]):\n",
    "        num_samples, num_attributes = X.shape\n",
    "        num_classes = len(np.unique(y))\n",
    "\n",
    "        # base case\n",
    "        if depth >= self.max_depth or num_classes == 1 or num_samples < 2 or num_attributes == 0:\n",
    "            label = max(y, key=list(y).count)\n",
    "            self.labels.append(label)\n",
    "            return Node(label=label)\n",
    "\n",
    "        # greedy search\n",
    "        best_attribute = self._best_attribute(X, y, used_attributes)\n",
    "\n",
    "        # partition\n",
    "        children = {}\n",
    "        for value in np.unique(X[:, best_attribute]):\n",
    "            X_subset = X[X[:, best_attribute] == value]\n",
    "            y_subset = y[X[:, best_attribute] == value]\n",
    "            children[value] = self._build_tree(X_subset, y_subset, depth + 1, used_attributes + [best_attribute])\n",
    "        \n",
    "        return Node(attribute=best_attribute, children=children)\n",
    "    \n",
    "    def _best_attribute(self, X, y, used_attributes):\n",
    "        best_attribute = None\n",
    "        min_entropy = float('inf')\n",
    "\n",
    "        for attribute in range(X.shape[1]):\n",
    "            if attribute in used_attributes:\n",
    "                continue\n",
    "            entropy = self._weighted_sum(attribute, y)\n",
    "            if entropy < min_entropy:\n",
    "                min_entropy = entropy\n",
    "                best_attribute = attribute\n",
    "\n",
    "        return best_attribute\n",
    "\n",
    "    def _entropy(self, y):\n",
    "        num_samples = len(y)\n",
    "        entropy = 0\n",
    "\n",
    "        for class_ in np.unique(y):\n",
    "            p = len(y[y == class_]) / num_samples\n",
    "            entropy += -p * np.log2(p)\n",
    "\n",
    "        return entropy\n",
    "\n",
    "    def _weighted_sum(self, attribute, y):\n",
    "        num_samples = len(y)\n",
    "        weighted_sum = 0\n",
    "\n",
    "        for value in np.unique(attribute):\n",
    "            y_subset = y[attribute == value]\n",
    "            weighted_sum += (len(y_subset) / num_samples) * self._entropy(y_subset)\n",
    "\n",
    "        return weighted_sum\n",
    "\n",
    "    def _predict(self, inputs):\n",
    "        node = self.tree\n",
    "\n",
    "        while node.attribute is not None:\n",
    "            attribute = node.attribute\n",
    "            if inputs[attribute] not in node.children:\n",
    "                # if the value is not in the tree, return the most common label\n",
    "                return max(self.labels, key=self.labels.count)\n",
    "            node = node.children[inputs[attribute]]\n",
    "\n",
    "        return node.label\n",
    "\n",
    "    def _print_tree(self, node, spacing=\"\"):\n",
    "        if node.attribute is not None:\n",
    "            print(spacing + \"Attribute:\", self.attributes[node.attribute])\n",
    "            for value, child in node.children.items():\n",
    "                print(spacing + '--> Value:', value)\n",
    "                self._print_tree(child, spacing + \"  \")\n",
    "        else:\n",
    "            print(spacing + \"Predict\", node.label)\n"
   ]
  },
  {
   "cell_type": "code",
   "execution_count": 284,
   "metadata": {},
   "outputs": [
    {
     "data": {
      "text/html": [
       "<div>\n",
       "<style scoped>\n",
       "    .dataframe tbody tr th:only-of-type {\n",
       "        vertical-align: middle;\n",
       "    }\n",
       "\n",
       "    .dataframe tbody tr th {\n",
       "        vertical-align: top;\n",
       "    }\n",
       "\n",
       "    .dataframe thead th {\n",
       "        text-align: right;\n",
       "    }\n",
       "</style>\n",
       "<table border=\"1\" class=\"dataframe\">\n",
       "  <thead>\n",
       "    <tr style=\"text-align: right;\">\n",
       "      <th></th>\n",
       "      <th>sepallength</th>\n",
       "      <th>sepalwidth</th>\n",
       "      <th>petallength</th>\n",
       "      <th>petalwidth</th>\n",
       "      <th>class</th>\n",
       "    </tr>\n",
       "  </thead>\n",
       "  <tbody>\n",
       "    <tr>\n",
       "      <th>0</th>\n",
       "      <td>5.1</td>\n",
       "      <td>3.5</td>\n",
       "      <td>1.4</td>\n",
       "      <td>0.2</td>\n",
       "      <td>Iris-setosa</td>\n",
       "    </tr>\n",
       "    <tr>\n",
       "      <th>1</th>\n",
       "      <td>4.9</td>\n",
       "      <td>3.0</td>\n",
       "      <td>1.4</td>\n",
       "      <td>0.2</td>\n",
       "      <td>Iris-setosa</td>\n",
       "    </tr>\n",
       "    <tr>\n",
       "      <th>2</th>\n",
       "      <td>4.7</td>\n",
       "      <td>3.2</td>\n",
       "      <td>1.3</td>\n",
       "      <td>0.2</td>\n",
       "      <td>Iris-setosa</td>\n",
       "    </tr>\n",
       "    <tr>\n",
       "      <th>3</th>\n",
       "      <td>4.6</td>\n",
       "      <td>3.1</td>\n",
       "      <td>1.5</td>\n",
       "      <td>0.2</td>\n",
       "      <td>Iris-setosa</td>\n",
       "    </tr>\n",
       "    <tr>\n",
       "      <th>4</th>\n",
       "      <td>5.0</td>\n",
       "      <td>3.6</td>\n",
       "      <td>1.4</td>\n",
       "      <td>0.2</td>\n",
       "      <td>Iris-setosa</td>\n",
       "    </tr>\n",
       "  </tbody>\n",
       "</table>\n",
       "</div>"
      ],
      "text/plain": [
       "   sepallength  sepalwidth  petallength  petalwidth        class\n",
       "0          5.1         3.5          1.4         0.2  Iris-setosa\n",
       "1          4.9         3.0          1.4         0.2  Iris-setosa\n",
       "2          4.7         3.2          1.3         0.2  Iris-setosa\n",
       "3          4.6         3.1          1.5         0.2  Iris-setosa\n",
       "4          5.0         3.6          1.4         0.2  Iris-setosa"
      ]
     },
     "execution_count": 284,
     "metadata": {},
     "output_type": "execute_result"
    }
   ],
   "source": [
    "# load data\n",
    "df = pd.read_csv('iris.csv')\n",
    "df.head()"
   ]
  },
  {
   "cell_type": "code",
   "execution_count": 285,
   "metadata": {},
   "outputs": [],
   "source": [
    "# bin data\n",
    "df['sepallength'] = pd.cut(df['sepallength'], bins=3, labels=['short', 'medium', 'long'])\n",
    "df['sepalwidth'] = pd.cut(df['sepalwidth'], bins=3, labels=['short', 'medium', 'long'])\n",
    "df['petallength'] = pd.cut(df['petallength'], bins=3, labels=['short', 'medium', 'long'])\n",
    "df['petalwidth'] = pd.cut(df['petalwidth'], bins=3, labels=['short', 'medium', 'long'])\n",
    "\n",
    "df.head()\n",
    "\n",
    "df.to_csv('preprocessed_iris.csv', index=False)"
   ]
  },
  {
   "cell_type": "code",
   "execution_count": 286,
   "metadata": {},
   "outputs": [],
   "source": [
    "train = df.sample(frac=0.8, random_state=20)\n",
    "test = df.drop(train.index)\n",
    "\n",
    "train.to_csv('train.csv', index=False)\n",
    "test.to_csv('test.csv', index=False)\n",
    "\n",
    "train_X = train[['sepallength', 'sepalwidth', 'petallength', 'petalwidth']].values\n",
    "train_y = train['class'].values\n",
    "\n",
    "test_X = test[['sepallength', 'sepalwidth', 'petallength', 'petalwidth']].values\n",
    "test_y = test['class'].values"
   ]
  },
  {
   "cell_type": "code",
   "execution_count": 287,
   "metadata": {},
   "outputs": [
    {
     "name": "stdout",
     "output_type": "stream",
     "text": [
      "Attribute: sepallength\n",
      "--> Value: long\n",
      "  Attribute: sepalwidth\n",
      "  --> Value: long\n",
      "    Predict Iris-virginica\n",
      "  --> Value: medium\n",
      "    Attribute: petallength\n",
      "    --> Value: long\n",
      "      Predict Iris-virginica\n",
      "    --> Value: medium\n",
      "      Predict Iris-versicolor\n",
      "  --> Value: short\n",
      "    Attribute: petallength\n",
      "    --> Value: long\n",
      "      Predict Iris-virginica\n",
      "    --> Value: medium\n",
      "      Predict Iris-versicolor\n",
      "--> Value: medium\n",
      "  Attribute: sepalwidth\n",
      "  --> Value: long\n",
      "    Predict Iris-setosa\n",
      "  --> Value: medium\n",
      "    Attribute: petallength\n",
      "    --> Value: long\n",
      "      Predict Iris-virginica\n",
      "    --> Value: medium\n",
      "      Predict Iris-versicolor\n",
      "  --> Value: short\n",
      "    Attribute: petallength\n",
      "    --> Value: long\n",
      "      Predict Iris-virginica\n",
      "    --> Value: medium\n",
      "      Predict Iris-versicolor\n",
      "--> Value: short\n",
      "  Attribute: sepalwidth\n",
      "  --> Value: long\n",
      "    Predict Iris-setosa\n",
      "  --> Value: medium\n",
      "    Attribute: petallength\n",
      "    --> Value: medium\n",
      "      Predict Iris-versicolor\n",
      "    --> Value: short\n",
      "      Predict Iris-setosa\n",
      "  --> Value: short\n",
      "    Attribute: petallength\n",
      "    --> Value: medium\n",
      "      Predict Iris-versicolor\n",
      "    --> Value: short\n",
      "      Predict Iris-setosa\n"
     ]
    }
   ],
   "source": [
    "# model\n",
    "dt = DecisionTree(attributes=['sepallength', 'sepalwidth', 'petallength', 'petalwidth'])\n",
    "dt.fit(train_X, train_y)\n",
    "dt.print_tree()"
   ]
  },
  {
   "cell_type": "code",
   "execution_count": 288,
   "metadata": {},
   "outputs": [
    {
     "name": "stdout",
     "output_type": "stream",
     "text": [
      "Accuracy: 0.9333333333333333\n"
     ]
    },
    {
     "data": {
      "text/html": [
       "<div>\n",
       "<style scoped>\n",
       "    .dataframe tbody tr th:only-of-type {\n",
       "        vertical-align: middle;\n",
       "    }\n",
       "\n",
       "    .dataframe tbody tr th {\n",
       "        vertical-align: top;\n",
       "    }\n",
       "\n",
       "    .dataframe thead th {\n",
       "        text-align: right;\n",
       "    }\n",
       "</style>\n",
       "<table border=\"1\" class=\"dataframe\">\n",
       "  <thead>\n",
       "    <tr style=\"text-align: right;\">\n",
       "      <th>Predicted</th>\n",
       "      <th>Iris-setosa</th>\n",
       "      <th>Iris-versicolor</th>\n",
       "      <th>Iris-virginica</th>\n",
       "    </tr>\n",
       "    <tr>\n",
       "      <th>Actual</th>\n",
       "      <th></th>\n",
       "      <th></th>\n",
       "      <th></th>\n",
       "    </tr>\n",
       "  </thead>\n",
       "  <tbody>\n",
       "    <tr>\n",
       "      <th>Iris-setosa</th>\n",
       "      <td>13</td>\n",
       "      <td>0</td>\n",
       "      <td>0</td>\n",
       "    </tr>\n",
       "    <tr>\n",
       "      <th>Iris-versicolor</th>\n",
       "      <td>0</td>\n",
       "      <td>4</td>\n",
       "      <td>2</td>\n",
       "    </tr>\n",
       "    <tr>\n",
       "      <th>Iris-virginica</th>\n",
       "      <td>0</td>\n",
       "      <td>0</td>\n",
       "      <td>11</td>\n",
       "    </tr>\n",
       "  </tbody>\n",
       "</table>\n",
       "</div>"
      ],
      "text/plain": [
       "Predicted        Iris-setosa  Iris-versicolor  Iris-virginica\n",
       "Actual                                                       \n",
       "Iris-setosa               13                0               0\n",
       "Iris-versicolor            0                4               2\n",
       "Iris-virginica             0                0              11"
      ]
     },
     "execution_count": 288,
     "metadata": {},
     "output_type": "execute_result"
    }
   ],
   "source": [
    "# predict\n",
    "predictions = dt.predict(test_X)\n",
    "\n",
    "# accuracy\n",
    "accuracy = np.sum(predictions == test_y) / len(test_y)\n",
    "print('Accuracy:', accuracy)\n",
    "\n",
    "# confusion matrix\n",
    "pd.crosstab(test_y, predictions, rownames=['Actual'], colnames=['Predicted'])"
   ]
  },
  {
   "cell_type": "code",
   "execution_count": 289,
   "metadata": {},
   "outputs": [],
   "source": [
    "from sklearn.tree import DecisionTreeClassifier"
   ]
  },
  {
   "cell_type": "code",
   "execution_count": 290,
   "metadata": {},
   "outputs": [],
   "source": [
    "# replace labels with ints\n",
    "train_X = train[['sepallength', 'sepalwidth', 'petallength', 'petalwidth']].replace({'short': 0, 'medium': 1, 'long': 2}).values\n",
    "test_X = test[['sepallength', 'sepalwidth', 'petallength', 'petalwidth']].replace({'short': 0, 'medium': 1, 'long': 2}).values"
   ]
  },
  {
   "cell_type": "code",
   "execution_count": 291,
   "metadata": {},
   "outputs": [
    {
     "data": {
      "text/html": [
       "<style>#sk-container-id-23 {color: black;background-color: white;}#sk-container-id-23 pre{padding: 0;}#sk-container-id-23 div.sk-toggleable {background-color: white;}#sk-container-id-23 label.sk-toggleable__label {cursor: pointer;display: block;width: 100%;margin-bottom: 0;padding: 0.3em;box-sizing: border-box;text-align: center;}#sk-container-id-23 label.sk-toggleable__label-arrow:before {content: \"▸\";float: left;margin-right: 0.25em;color: #696969;}#sk-container-id-23 label.sk-toggleable__label-arrow:hover:before {color: black;}#sk-container-id-23 div.sk-estimator:hover label.sk-toggleable__label-arrow:before {color: black;}#sk-container-id-23 div.sk-toggleable__content {max-height: 0;max-width: 0;overflow: hidden;text-align: left;background-color: #f0f8ff;}#sk-container-id-23 div.sk-toggleable__content pre {margin: 0.2em;color: black;border-radius: 0.25em;background-color: #f0f8ff;}#sk-container-id-23 input.sk-toggleable__control:checked~div.sk-toggleable__content {max-height: 200px;max-width: 100%;overflow: auto;}#sk-container-id-23 input.sk-toggleable__control:checked~label.sk-toggleable__label-arrow:before {content: \"▾\";}#sk-container-id-23 div.sk-estimator input.sk-toggleable__control:checked~label.sk-toggleable__label {background-color: #d4ebff;}#sk-container-id-23 div.sk-label input.sk-toggleable__control:checked~label.sk-toggleable__label {background-color: #d4ebff;}#sk-container-id-23 input.sk-hidden--visually {border: 0;clip: rect(1px 1px 1px 1px);clip: rect(1px, 1px, 1px, 1px);height: 1px;margin: -1px;overflow: hidden;padding: 0;position: absolute;width: 1px;}#sk-container-id-23 div.sk-estimator {font-family: monospace;background-color: #f0f8ff;border: 1px dotted black;border-radius: 0.25em;box-sizing: border-box;margin-bottom: 0.5em;}#sk-container-id-23 div.sk-estimator:hover {background-color: #d4ebff;}#sk-container-id-23 div.sk-parallel-item::after {content: \"\";width: 100%;border-bottom: 1px solid gray;flex-grow: 1;}#sk-container-id-23 div.sk-label:hover label.sk-toggleable__label {background-color: #d4ebff;}#sk-container-id-23 div.sk-serial::before {content: \"\";position: absolute;border-left: 1px solid gray;box-sizing: border-box;top: 0;bottom: 0;left: 50%;z-index: 0;}#sk-container-id-23 div.sk-serial {display: flex;flex-direction: column;align-items: center;background-color: white;padding-right: 0.2em;padding-left: 0.2em;position: relative;}#sk-container-id-23 div.sk-item {position: relative;z-index: 1;}#sk-container-id-23 div.sk-parallel {display: flex;align-items: stretch;justify-content: center;background-color: white;position: relative;}#sk-container-id-23 div.sk-item::before, #sk-container-id-23 div.sk-parallel-item::before {content: \"\";position: absolute;border-left: 1px solid gray;box-sizing: border-box;top: 0;bottom: 0;left: 50%;z-index: -1;}#sk-container-id-23 div.sk-parallel-item {display: flex;flex-direction: column;z-index: 1;position: relative;background-color: white;}#sk-container-id-23 div.sk-parallel-item:first-child::after {align-self: flex-end;width: 50%;}#sk-container-id-23 div.sk-parallel-item:last-child::after {align-self: flex-start;width: 50%;}#sk-container-id-23 div.sk-parallel-item:only-child::after {width: 0;}#sk-container-id-23 div.sk-dashed-wrapped {border: 1px dashed gray;margin: 0 0.4em 0.5em 0.4em;box-sizing: border-box;padding-bottom: 0.4em;background-color: white;}#sk-container-id-23 div.sk-label label {font-family: monospace;font-weight: bold;display: inline-block;line-height: 1.2em;}#sk-container-id-23 div.sk-label-container {text-align: center;}#sk-container-id-23 div.sk-container {/* jupyter's `normalize.less` sets `[hidden] { display: none; }` but bootstrap.min.css set `[hidden] { display: none !important; }` so we also need the `!important` here to be able to override the default hidden behavior on the sphinx rendered scikit-learn.org. See: https://github.com/scikit-learn/scikit-learn/issues/21755 */display: inline-block !important;position: relative;}#sk-container-id-23 div.sk-text-repr-fallback {display: none;}</style><div id=\"sk-container-id-23\" class=\"sk-top-container\"><div class=\"sk-text-repr-fallback\"><pre>DecisionTreeClassifier(criterion=&#x27;entropy&#x27;, max_depth=3)</pre><b>In a Jupyter environment, please rerun this cell to show the HTML representation or trust the notebook. <br />On GitHub, the HTML representation is unable to render, please try loading this page with nbviewer.org.</b></div><div class=\"sk-container\" hidden><div class=\"sk-item\"><div class=\"sk-estimator sk-toggleable\"><input class=\"sk-toggleable__control sk-hidden--visually\" id=\"sk-estimator-id-23\" type=\"checkbox\" checked><label for=\"sk-estimator-id-23\" class=\"sk-toggleable__label sk-toggleable__label-arrow\">DecisionTreeClassifier</label><div class=\"sk-toggleable__content\"><pre>DecisionTreeClassifier(criterion=&#x27;entropy&#x27;, max_depth=3)</pre></div></div></div></div></div>"
      ],
      "text/plain": [
       "DecisionTreeClassifier(criterion='entropy', max_depth=3)"
      ]
     },
     "execution_count": 291,
     "metadata": {},
     "output_type": "execute_result"
    }
   ],
   "source": [
    "model = DecisionTreeClassifier(max_depth=3, criterion='entropy')\n",
    "model.fit(train_X, train_y)"
   ]
  },
  {
   "cell_type": "code",
   "execution_count": 292,
   "metadata": {},
   "outputs": [
    {
     "name": "stdout",
     "output_type": "stream",
     "text": [
      "Accuracy: 0.9333333333333333\n"
     ]
    },
    {
     "data": {
      "text/html": [
       "<div>\n",
       "<style scoped>\n",
       "    .dataframe tbody tr th:only-of-type {\n",
       "        vertical-align: middle;\n",
       "    }\n",
       "\n",
       "    .dataframe tbody tr th {\n",
       "        vertical-align: top;\n",
       "    }\n",
       "\n",
       "    .dataframe thead th {\n",
       "        text-align: right;\n",
       "    }\n",
       "</style>\n",
       "<table border=\"1\" class=\"dataframe\">\n",
       "  <thead>\n",
       "    <tr style=\"text-align: right;\">\n",
       "      <th>Predicted</th>\n",
       "      <th>Iris-setosa</th>\n",
       "      <th>Iris-versicolor</th>\n",
       "      <th>Iris-virginica</th>\n",
       "    </tr>\n",
       "    <tr>\n",
       "      <th>Actual</th>\n",
       "      <th></th>\n",
       "      <th></th>\n",
       "      <th></th>\n",
       "    </tr>\n",
       "  </thead>\n",
       "  <tbody>\n",
       "    <tr>\n",
       "      <th>Iris-setosa</th>\n",
       "      <td>13</td>\n",
       "      <td>0</td>\n",
       "      <td>0</td>\n",
       "    </tr>\n",
       "    <tr>\n",
       "      <th>Iris-versicolor</th>\n",
       "      <td>0</td>\n",
       "      <td>4</td>\n",
       "      <td>2</td>\n",
       "    </tr>\n",
       "    <tr>\n",
       "      <th>Iris-virginica</th>\n",
       "      <td>0</td>\n",
       "      <td>0</td>\n",
       "      <td>11</td>\n",
       "    </tr>\n",
       "  </tbody>\n",
       "</table>\n",
       "</div>"
      ],
      "text/plain": [
       "Predicted        Iris-setosa  Iris-versicolor  Iris-virginica\n",
       "Actual                                                       \n",
       "Iris-setosa               13                0               0\n",
       "Iris-versicolor            0                4               2\n",
       "Iris-virginica             0                0              11"
      ]
     },
     "execution_count": 292,
     "metadata": {},
     "output_type": "execute_result"
    }
   ],
   "source": [
    "predictions = model.predict(test_X)\n",
    "\n",
    "# accuracy\n",
    "accuracy = np.sum(predictions == test_y) / len(test_y)\n",
    "print('Accuracy:', accuracy)\n",
    "\n",
    "# confusion matrix\n",
    "pd.crosstab(test_y, predictions, rownames=['Actual'], colnames=['Predicted'])"
   ]
  }
 ],
 "metadata": {
  "kernelspec": {
   "display_name": "Python 3.9.9 64-bit",
   "language": "python",
   "name": "python3"
  },
  "language_info": {
   "codemirror_mode": {
    "name": "ipython",
    "version": 3
   },
   "file_extension": ".py",
   "mimetype": "text/x-python",
   "name": "python",
   "nbconvert_exporter": "python",
   "pygments_lexer": "ipython3",
   "version": "3.9.9"
  },
  "orig_nbformat": 4,
  "vscode": {
   "interpreter": {
    "hash": "f5e64e14285a742e7c3cd8887e6c8e97df7025803698b8208f11d3195ec65867"
   }
  }
 },
 "nbformat": 4,
 "nbformat_minor": 2
}
